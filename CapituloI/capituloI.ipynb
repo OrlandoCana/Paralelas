{
 "cells": [
  {
   "cell_type": "markdown",
   "metadata": {},
   "source": [
    "# **CAPITULO I: EJEMPLOS DE OPENMP**\n",
    "\n",
    "En este capitulo veremos dos ejemplos básicos y utilizaremos las directiva **#pragma omp critical**.\n",
    "\n",
    "**#pragma omp critical** nos sirve para rodear fragmento de codigo que se ejecuta por un solo hilo a la vez, es decir que los **p** hilos ejecutarán ese fragmento pero solo uno a la vez."
   ]
  },
  {
   "cell_type": "markdown",
   "metadata": {},
   "source": [
    "### **Potencia de dos números**\n",
    "$$a^b$$\n",
    "La potencia de dos números se puede hallar con la multiplicación de **a** (**b** veces):\n",
    "$$a^b = a\\times a\\times ...\\times a \\textup{ (b veces)}$$\n",
    "Se puede dividir esa multiplicación en **p** fragmentos donde **p** es el numero de hilos.\n",
    "$$ a^b = (a\\times ...\\times a \\textup{ (b/p veces)}) \\times (a\\times ...\\times a \\textup{ (b/p veces)}) \\times ...\\times (a\\times ...\\times a \\textup{ (b/p veces)})$$ \n",
    "$$a^b = a^{b/p} \\times a^{b/p} \\times ...\\times a^{b/p}$$\n",
    "\n",
    "Donde cada hilo ejecutará \n",
    "$$ a^{b/p}$$\n",
    "\n",
    "El codigo secuencial es:\n",
    "```c++\n",
    "int potencia(int a, int b){\n",
    "    int pot = 1\n",
    "    for (int i = 0; i < b; i++){\n",
    "        pot *= a;\n",
    "    }\n",
    "    return pot;\n",
    "}\n",
    "```\n",
    "\n",
    "Ya con esto podemos escribir un codigo paralelo para resolver este problema.\n"
   ]
  },
  {
   "cell_type": "code",
   "execution_count": 10,
   "metadata": {},
   "outputs": [
    {
     "name": "stdout",
     "output_type": "stream",
     "text": [
      "Overwriting potencia.cpp\n"
     ]
    }
   ],
   "source": [
    "%%writefile potencia.cpp\n",
    "#include <stdio.h>\n",
    "#include <omp.h>\n",
    "\n",
    "void potencia(long a, long b,long long *pot);\n",
    "\n",
    "int main(){\n",
    "    //--# variable de potencia total\n",
    "    long long potTotal = 1;\n",
    "    \n",
    "    //--# variable que almacena el total de hilos a utilizar\n",
    "    int threads = 4;\n",
    "    \n",
    "    //--# Declaramos los valores de a y b \n",
    "    long a = 2;\n",
    "    long b = 24;\n",
    "    \n",
    "#pragma omp parallel num_threads(threads)\n",
    "{\n",
    "    potencia(a, b, &potTotal);\n",
    "}\n",
    "    printf(\"la potencia es : %lld\", potTotal);\n",
    "    return 0;\n",
    "}\n",
    "\n",
    "void potencia(long a, long b,long long *potTotal){\n",
    "    int thread = omp_get_thread_num(); //# id del hilo\n",
    "    int threads = omp_get_num_threads(); //# total de hilos\n",
    "     \n",
    "    int step = b/threads;\n",
    "    int x = thread * step;\n",
    "    int y = x + step;\n",
    "    \n",
    "    long potPartial = 1; //# potencia parcial\n",
    "    \n",
    "    for (int i = x; i < y; i++){\n",
    "        potPartial *= a;\n",
    "    }\n",
    "#pragma omp critical\n",
    "    *potTotal *= potPartial;\n",
    "}\n"
   ]
  },
  {
   "cell_type": "markdown",
   "metadata": {},
   "source": [
    "Ejecutamos nuestros código paralelo con datos de a=2 y b=24 donde:\n",
    "$$a^b=2^{24}=167772116$$"
   ]
  },
  {
   "cell_type": "code",
   "execution_count": 11,
   "metadata": {},
   "outputs": [
    {
     "name": "stdout",
     "output_type": "stream",
     "text": [
      "la potencia es : 16777216\n"
     ]
    }
   ],
   "source": [
    "!g++ -fopenmp potencia.cpp\n",
    "!a.exe"
   ]
  },
  {
   "cell_type": "markdown",
   "metadata": {},
   "source": [
    "### Suma de elementos de un arreglo unidimensional\n",
    "\n",
    "Tenemos por ejemplo un arreglo:\n",
    "<img src=\"array.jpg\">\n",
    "la suma de los elementos del array es:\n",
    "$$4+5+7+2+1+3+4+12+15+11+3+8=75$$\n",
    "El código secuencial es el siguiente:\n",
    "\n",
    "```c++\n",
    "int sumaSecuencial(int arr[], int size){\n",
    "    int suma = 0;\n",
    "    for (int i = 0; i < size; i++){\n",
    "        suma += arr[i];\n",
    "    }\n",
    "    return suma;\n",
    "}\n",
    "```\n",
    "\n",
    "La idea de paralelizar es dividir en fragmentos. por ejemplo si tenemos  **p = 3** hilos y el tamaño del arreglo **n = 12** podemos dividir el arreglo en **n/p = 4** fragmentos, tomemos el arreglo anterior y dividamos de la siguiente manera:\n",
    "\n",
    "<img src=\"array1.jpg\">\n",
    "\n",
    "El hilo p = 0 sumará el fragmento amarillo con indices **0, 1, 2, 3**\n",
    "\n",
    "El hilo p = 1 sumará el fragmento rojo con indices **4, 5, 6, 7**\n",
    "\n",
    "El hilo p = 3 sumará el fragmento gris con indices **8, 9, 10, 11**\n",
    "\n",
    "la suma de **p = 0** es:\n",
    "$$4+5+7+2=18$$\n",
    "\n",
    "la suma de **p = 1** es:\n",
    "$$1+3+4+12=20$$\n",
    "\n",
    "la suma de **p = 2** es:\n",
    "$$15+11+3+8=37$$\n",
    "\n",
    "y la suma total es:\n",
    "$$18+20+37=75$$\n",
    "\n",
    "Con esto ya podemos escribir el código paralelo \n"
   ]
  },
  {
   "cell_type": "code",
   "execution_count": 4,
   "metadata": {},
   "outputs": [
    {
     "name": "stdout",
     "output_type": "stream",
     "text": [
      "Writing sumaParalela.cpp\n"
     ]
    }
   ],
   "source": [
    "%%writefile sumaParalela.cpp\n",
    "#include <stdio.h>\n",
    "#include <omp.h>\n",
    "\n",
    "void sumaParalela(int arr[], int size,int *sumArray);\n",
    "\n",
    "int main(){\n",
    "    //--# variable de suma total\n",
    "    int sumTotal = 0;\n",
    "    \n",
    "    //--# variable que almacena el total de hilos a utilizar\n",
    "    int threads = 4;\n",
    "    \n",
    "    //--# Declaramos el arreglo \n",
    "    int arr[12] = {4, 5, 7, 2, 1, 3, 4, 12, 15, 11, 3, 8};\n",
    "    int size = 12;\n",
    "    \n",
    "#pragma omp parallel num_threads(threads)\n",
    "{\n",
    "    sumaParalela(arr, size, &sumTotal);\n",
    "}\n",
    "    printf(\"la suma es : %d\", sumTotal);\n",
    "    return 0;\n",
    "}\n",
    "\n",
    "void sumaParalela(int arr[], int size,int *sumArray){\n",
    "    int sumPartial = 0;\n",
    "    int thread = omp_get_thread_num();\n",
    "    int threads = omp_get_num_threads();\n",
    "    int step = size/threads;\n",
    "    int a = thread * step;\n",
    "    int b = a + step;\n",
    "    for (int i = a; i < b; i++){\n",
    "        sumPartial += arr[i];\n",
    "    }\n",
    "#pragma omp critical\n",
    "    *sumArray += sumPartial;\n",
    "}"
   ]
  },
  {
   "cell_type": "markdown",
   "metadata": {},
   "source": [
    "Ejecutamos nuestro código paralelo con los datos de arreglo anterior"
   ]
  },
  {
   "cell_type": "code",
   "execution_count": 5,
   "metadata": {},
   "outputs": [
    {
     "name": "stdout",
     "output_type": "stream",
     "text": [
      "la suma es : 75\n"
     ]
    }
   ],
   "source": [
    "!g++ -fopenmp sumaParalela.cpp\n",
    "!a.exe"
   ]
  }
 ],
 "metadata": {
  "kernelspec": {
   "display_name": "Python 3.10.5 64-bit",
   "language": "python",
   "name": "python3"
  },
  "language_info": {
   "codemirror_mode": {
    "name": "ipython",
    "version": 3
   },
   "file_extension": ".py",
   "mimetype": "text/x-python",
   "name": "python",
   "nbconvert_exporter": "python",
   "pygments_lexer": "ipython3",
   "version": "3.10.5"
  },
  "orig_nbformat": 4,
  "vscode": {
   "interpreter": {
    "hash": "110fe3fb9777db4ce1f884af3cc527a40b2c98427ad17781c021ef692bd3d28d"
   }
  }
 },
 "nbformat": 4,
 "nbformat_minor": 2
}

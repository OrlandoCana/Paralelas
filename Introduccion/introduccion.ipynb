{
 "cells": [
  {
   "cell_type": "markdown",
   "metadata": {},
   "source": [
    "# **Introducción a OpenMP**\n",
    "\n",
    "En este capitulo veremos una introducción a OpenMP en c++, para ello utilizaremos un cuarderno **.ipynb** que se ejecuta en el kernel de linux y sirve para ejecutar codigo python.\n",
    "\n",
    "Para poder escribir un archivo **.cpp** en **.ipynb** utilizamos en siguiente comando: **%%writefile nombre.cpp**"
   ]
  },
  {
   "cell_type": "code",
   "execution_count": 1,
   "metadata": {},
   "outputs": [
    {
     "name": "stdout",
     "output_type": "stream",
     "text": [
      "Writing HelloWorld.cpp\n"
     ]
    }
   ],
   "source": [
    "%%writefile HelloWorld.cpp\n",
    "#include <iostream>\n",
    "using namespace std;\n",
    "\n",
    "int main(){\n",
    "    cout << \"Hello World\" << endl;\n",
    "    return 0;\n",
    "}"
   ]
  },
  {
   "cell_type": "markdown",
   "metadata": {},
   "source": [
    "Ya creamos un archivo .cpp y ahora escribiremos el siguiente comando para ejecutarlo:"
   ]
  },
  {
   "cell_type": "code",
   "execution_count": 3,
   "metadata": {},
   "outputs": [
    {
     "name": "stdout",
     "output_type": "stream",
     "text": [
      "Hello World\n"
     ]
    }
   ],
   "source": [
    "# Al ejecutarse esta linea se crea un archivo a.exe\n",
    "!g++ HelloWorld.cpp\n",
    "# Al ejecutarse esta linea se ejecuta el archivo a.exe\n",
    "!a.exe"
   ]
  },
  {
   "cell_type": "markdown",
   "metadata": {},
   "source": [
    "Ahora veremos un ejemplo crearemos el tipico helloworld pero esta vez paralelamente."
   ]
  },
  {
   "cell_type": "code",
   "execution_count": 6,
   "metadata": {},
   "outputs": [
    {
     "name": "stdout",
     "output_type": "stream",
     "text": [
      "Overwriting HelloWorldP.cpp\n"
     ]
    }
   ],
   "source": [
    "%%writefile HelloWorldP.cpp\n",
    "#include <stdio.h>\n",
    "//--# omp.h es el encabezado que nos ayuda a ejecutar codigo paralelo\n",
    "#include <omp.h>\n",
    "\n",
    "int main(){\n",
    "    int thread, threads;\n",
    "    #pragma omp parallel\n",
    "    {\n",
    "        //--# Obtenemos el hilo actual\n",
    "        thread = omp_get_thread_num();\n",
    "        //--# Obtenemos el total de hilos\n",
    "        threads = omp_get_num_threads();\n",
    "        printf(\"Hello world. Soy el hilo %d de %d hilos\\n\", thread, threads);\n",
    "    }\n",
    "    return 0;\n",
    "}"
   ]
  },
  {
   "cell_type": "markdown",
   "metadata": {},
   "source": [
    "Ejecutamos el archivo anterior para observar los resultados."
   ]
  },
  {
   "cell_type": "code",
   "execution_count": 7,
   "metadata": {},
   "outputs": [
    {
     "name": "stdout",
     "output_type": "stream",
     "text": [
      "Hello world. Soy el hilo 3 de 8 hilos\n",
      "Hello world. Soy el hilo 4 de 8 hilos\n",
      "Hello world. Soy el hilo 1 de 8 hilos\n",
      "Hello world. Soy el hilo 5 de 8 hilos\n",
      "Hello world. Soy el hilo 7 de 8 hilos\n",
      "Hello world. Soy el hilo 2 de 8 hilos\n",
      "Hello world. Soy el hilo 0 de 8 hilos\n",
      "Hello world. Soy el hilo 6 de 8 hilos\n"
     ]
    }
   ],
   "source": [
    "!g++ -fopenmp HelloWorldP.cpp\n",
    "!a.exe"
   ]
  }
 ],
 "metadata": {
  "kernelspec": {
   "display_name": "Python 3.10.5 64-bit",
   "language": "python",
   "name": "python3"
  },
  "language_info": {
   "codemirror_mode": {
    "name": "ipython",
    "version": 3
   },
   "file_extension": ".py",
   "mimetype": "text/x-python",
   "name": "python",
   "nbconvert_exporter": "python",
   "pygments_lexer": "ipython3",
   "version": "3.10.5"
  },
  "orig_nbformat": 4,
  "vscode": {
   "interpreter": {
    "hash": "110fe3fb9777db4ce1f884af3cc527a40b2c98427ad17781c021ef692bd3d28d"
   }
  }
 },
 "nbformat": 4,
 "nbformat_minor": 2
}

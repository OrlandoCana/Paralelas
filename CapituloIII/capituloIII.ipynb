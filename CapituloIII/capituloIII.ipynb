{
 "cells": [
  {
   "cell_type": "markdown",
   "metadata": {},
   "source": [
    "# **CAPITULO III: Uso de la directiva for**\n",
    "\n",
    "La directiva for identifica una construcción iterativa de uso compartido que especifica que las iteraciones del bucle asociado se ejecutarán en paralelo. Las iteraciones del bucle for se distribuyen entre los subprocesos existentes en el equipo que ejecuta la construcción paralela a la que se enlaza. La sintaxis de la construcción for es la siguiente: \n",
    "\n",
    "```c++\n",
    "#pragma omp for [clause[[,] clause] ... ] new-line for-loop\n",
    "```\n",
    "\n",
    "La directiva for aplica restricciones a la estructura del bucle for correspondiente. En concreto, el bucle correspondiente for debe tener una forma canónica:\n",
    "\n",
    "```c++\n",
    "for (init-expr;var logical-op b;incr-expr)\n",
    "```\n",
    "\n",
    "Veamos un ejemplo:\n",
    "```c++\n",
    "#pragma omp for \n",
    "for (int k = 0; k < N; k++){\n",
    "    // Code\n",
    "}\n",
    "```\n",
    "Para ver como funciona vamos a imprimir numeros en pantalla con la directiva for y ver como cada iteracion esta asignada a cada subproceso(hilo). "
   ]
  },
  {
   "cell_type": "code",
   "execution_count": 24,
   "metadata": {},
   "outputs": [
    {
     "name": "stdout",
     "output_type": "stream",
     "text": [
      "Overwriting directivaFor.cpp\n"
     ]
    }
   ],
   "source": [
    "%%writefile directivaFor.cpp\n",
    "#include <stdio.h>\n",
    "#include <iostream>\n",
    "#include <omp.h>\n",
    "\n",
    "int main(int argc, char *argv[]){\n",
    "    int n, threads;\n",
    "    if (argc > 1) \n",
    "    {\n",
    "        //-- # número de elementos del arreglo\n",
    "        n = std::stoi(argv[1]);\n",
    "        //-- # número de hilos de region paralela\n",
    "        threads = std::stoi(argv[2]);\n",
    "        //-- region  paralela de threads hilos\n",
    "        #pragma omp parallel num_threads(threads)\n",
    "        {\n",
    "            #pragma omp for\n",
    "            for (int k = 0; k < n; k++){\n",
    "                printf(\"Soy el hilo %d y ejecuto la iteración %d\\n\", omp_get_thread_num(), k);\n",
    "            }\n",
    "        }\n",
    "        return 0;\n",
    "    }\n",
    "    printf(\"No se encontro Parametro \");\n",
    "    return 0;\n",
    "}"
   ]
  },
  {
   "cell_type": "markdown",
   "metadata": {},
   "source": [
    "Ejecutamos el anterior codigo con **n = 12 y p = 4**"
   ]
  },
  {
   "cell_type": "code",
   "execution_count": 25,
   "metadata": {},
   "outputs": [
    {
     "name": "stdout",
     "output_type": "stream",
     "text": [
      "Soy el hilo 0 y ejecuto la iteración 0\n",
      "Soy el hilo 3 y ejecuto la iteración 9\n",
      "Soy el hilo 0 y ejecuto la iteración 1\n",
      "Soy el hilo 2 y ejecuto la iteración 6\n",
      "Soy el hilo 0 y ejecuto la iteración 2\n",
      "Soy el hilo 3 y ejecuto la iteración 10\n",
      "Soy el hilo 2 y ejecuto la iteración 7\n",
      "Soy el hilo 3 y ejecuto la iteración 11\n",
      "Soy el hilo 1 y ejecuto la iteración 3\n",
      "Soy el hilo 1 y ejecuto la iteración 4\n",
      "Soy el hilo 1 y ejecuto la iteración 5\n",
      "Soy el hilo 2 y ejecuto la iteración 8\n"
     ]
    }
   ],
   "source": [
    "!g++ -fopenmp directivaFor.cpp\n",
    "!a.exe 12 4"
   ]
  },
  {
   "cell_type": "markdown",
   "metadata": {},
   "source": [
    "Como vemos cada subproceso ejecuta 3 iteraciones ya que **n = 12**(tamaño del for) y **p = 4** (número de hilos)\n",
    "\n",
    "veamos que pasa con un **p** que no es múltiplo de **n**, probemos con **n = 15 y p = 4** .\n"
   ]
  },
  {
   "cell_type": "code",
   "execution_count": 26,
   "metadata": {},
   "outputs": [
    {
     "name": "stdout",
     "output_type": "stream",
     "text": [
      "Soy el hilo 1 y ejecuto la iteración 4\n",
      "Soy el hilo 3 y ejecuto la iteración 12\n",
      "Soy el hilo 2 y ejecuto la iteración 8\n",
      "Soy el hilo 3 y ejecuto la iteración 13\n",
      "Soy el hilo 2 y ejecuto la iteración 9\n",
      "Soy el hilo 3 y ejecuto la iteración 14\n",
      "Soy el hilo 2 y ejecuto la iteración 10\n",
      "Soy el hilo 2 y ejecuto la iteración 11\n",
      "Soy el hilo 0 y ejecuto la iteración 0\n",
      "Soy el hilo 0 y ejecuto la iteración 1\n",
      "Soy el hilo 1 y ejecuto la iteración 5\n",
      "Soy el hilo 0 y ejecuto la iteración 2\n",
      "Soy el hilo 1 y ejecuto la iteración 6\n",
      "Soy el hilo 1 y ejecuto la iteración 7\n",
      "Soy el hilo 0 y ejecuto la iteración 3\n"
     ]
    }
   ],
   "source": [
    "!g++ -fopenmp directivaFor.cpp\n",
    "!a.exe 15 4"
   ]
  },
  {
   "cell_type": "markdown",
   "metadata": {},
   "source": [
    "* El hilo p = 0 ejecuta 4 iteraciones\n",
    "* El hilo p = 1 ejecuta 4 iteraciones\n",
    "* El hilo p = 2 ejecuta 4 iteraciones\n",
    "* El hilo p = 3 ejecuta 3 iteraciones"
   ]
  },
  {
   "cell_type": "markdown",
   "metadata": {},
   "source": [
    "Suma de elementos de un arreglo: para este ejemplo generaremos un arreglo de tamaño n con valores aleatorios entre 1 y 10 inclusive."
   ]
  },
  {
   "cell_type": "code",
   "execution_count": 47,
   "metadata": {},
   "outputs": [
    {
     "name": "stdout",
     "output_type": "stream",
     "text": [
      "Overwriting sumaParalela.cpp\n"
     ]
    }
   ],
   "source": [
    "%%writefile sumaParalela.cpp\n",
    "#include <stdio.h>\n",
    "#include <iostream>\n",
    "#include <omp.h>\n",
    "#include <cstdlib>\n",
    "#include <time.h>\n",
    "\n",
    "#define max_elementos 100\n",
    "\n",
    "void VectorAleatorio(int arr[], int tam){\n",
    "    srand((unsigned) time(NULL));\n",
    "    for (int k = 0; k < tam; k++){\n",
    "        arr[k] = 1 + rand() % 10;\n",
    "    }\n",
    "}\n",
    "\n",
    "void MostrarVector(int arr[], int tam){\n",
    "    printf(\"[\");\n",
    "    for (int k = 0; k < tam; k++){\n",
    "        if (k == tam - 1){\n",
    "            printf(\"%d\", arr[k]);\n",
    "        }\n",
    "        else {\n",
    "            printf(\"%d ,\", arr[k]);\n",
    "        }\n",
    "    }\n",
    "    printf(\"]\\n\");\n",
    "}\n",
    "\n",
    "int main(int argc, char *argv[]){\n",
    "    int n, threads;\n",
    "    if (argc > 1) \n",
    "    {\n",
    "        //-- # número de elementos del arreglo\n",
    "        n = std::stoi(argv[1]);\n",
    "        \n",
    "        //-- # número de hilos de region paralela\n",
    "        threads = std::stoi(argv[2]);\n",
    "        \n",
    "        //-- # inicializamos vector con un nuúmero máximo de elementos y valores aleatorios (0 <= n <= max_elementos)\n",
    "        int arreglo[max_elementos];\n",
    "        VectorAleatorio(arreglo, n);\n",
    "        \n",
    "        //-- # mostramos el vector aleatorio\n",
    "        printf(\"los elementos del vector son: \");\n",
    "        MostrarVector(arreglo, n);\n",
    "        \n",
    "        //-- # suma global\n",
    "        int suma = 0;\n",
    "        \n",
    "        //-- region  paralela de threads hilos\n",
    "        #pragma omp parallel num_threads(threads)\n",
    "        {\n",
    "            #pragma omp for\n",
    "            for (int k = 0; k < n; k++){\n",
    "                suma += arreglo[k];\n",
    "            }\n",
    "        }\n",
    "        \n",
    "        //-- # mostramos la suma de los elementos del arreglo\n",
    "        printf(\"la suma es: %d\\n\", suma);\n",
    "        return 0;\n",
    "    }\n",
    "    printf(\"No se encontro Parametro\\n\");\n",
    "    return 0;\n",
    "}"
   ]
  },
  {
   "cell_type": "code",
   "execution_count": 48,
   "metadata": {},
   "outputs": [
    {
     "name": "stdout",
     "output_type": "stream",
     "text": [
      "los elementos del vector son: [2 ,6 ,2 ,4 ,3 ,7 ,8 ,4 ,10 ,1]\n",
      "la suma es: 47\n"
     ]
    }
   ],
   "source": [
    "!g++ -fopenmp sumaParalela.cpp\n",
    "!a.exe 10 2"
   ]
  }
 ],
 "metadata": {
  "kernelspec": {
   "display_name": "Python 3.10.5 64-bit",
   "language": "python",
   "name": "python3"
  },
  "language_info": {
   "codemirror_mode": {
    "name": "ipython",
    "version": 3
   },
   "file_extension": ".py",
   "mimetype": "text/x-python",
   "name": "python",
   "nbconvert_exporter": "python",
   "pygments_lexer": "ipython3",
   "version": "3.10.5"
  },
  "orig_nbformat": 4,
  "vscode": {
   "interpreter": {
    "hash": "110fe3fb9777db4ce1f884af3cc527a40b2c98427ad17781c021ef692bd3d28d"
   }
  }
 },
 "nbformat": 4,
 "nbformat_minor": 2
}
